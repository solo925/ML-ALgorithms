{
 "cells": [
  {
   "cell_type": "markdown",
   "metadata": {},
   "source": [
    ". K-Means Clustering\n",
    "\n",
    "K-Means is an unsupervised learning algorithm used to partition data into k clusters."
   ]
  },
  {
   "cell_type": "code",
   "execution_count": 1,
   "metadata": {},
   "outputs": [
    {
     "name": "stdout",
     "output_type": "stream",
     "text": [
      "Cluster Centers:\n",
      "[[ 1.  2.]\n",
      " [10.  2.]]\n",
      "Labels: [0 0 0 1 1 1]\n"
     ]
    }
   ],
   "source": [
    "from sklearn.cluster import KMeans\n",
    "import numpy as np\n",
    "\n",
    "# Example data with 2 features\n",
    "X = np.array([[1, 2], [1, 4], [1, 0], [10, 2], [10, 4], [10, 0]])\n",
    "\n",
    "# Initialize and train the model with k=2 clusters\n",
    "model = KMeans(n_clusters=2, random_state=42)\n",
    "model.fit(X)\n",
    "\n",
    "# Get the cluster centers and labels\n",
    "centers = model.cluster_centers_\n",
    "labels = model.labels_\n",
    "\n",
    "print(f\"Cluster Centers:\\n{centers}\")\n",
    "print(f\"Labels: {labels}\")\n"
   ]
  }
 ],
 "metadata": {
  "kernelspec": {
   "display_name": "Python 3",
   "language": "python",
   "name": "python3"
  },
  "language_info": {
   "codemirror_mode": {
    "name": "ipython",
    "version": 3
   },
   "file_extension": ".py",
   "mimetype": "text/x-python",
   "name": "python",
   "nbconvert_exporter": "python",
   "pygments_lexer": "ipython3",
   "version": "3.11.2"
  }
 },
 "nbformat": 4,
 "nbformat_minor": 2
}
